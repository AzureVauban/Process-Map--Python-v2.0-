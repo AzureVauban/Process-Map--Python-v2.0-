{
 "cells": [
  {
   "cell_type": "code",
   "execution_count": 21,
   "metadata": {},
   "outputs": [
    {
     "name": "stdout",
     "output_type": "stream",
     "text": [
      "5tqhdXFJyheuCek\n",
      "gwHGpf5\n",
      "zL2PwBOFoy\n",
      "nqlKLZoperXq9\n",
      "4Ccj09Us3izNMN0dGr\n",
      "lubzjGUZusDATNuagLu\n",
      "Jg0dSU\n",
      "jBIWVLQcg\n",
      "1jASxVYqzk\n",
      "3ryLZn\n"
     ]
    }
   ],
   "source": [
    "# create a random name generator method\n",
    "import random\n",
    "\n",
    "\n",
    "def generatename(lengthlimit: int = random.randint(10, 20)) -> str:\n",
    "    \"\"\"_summary_\n",
    "\n",
    "    Returns:\n",
    "        str: _description_\n",
    "    \"\"\"\n",
    "    # create a random name as a string\n",
    "    yuggoth: str = '0123456789abcdefghijklmnopqrstuvwxyzABCDEFGHIJKLMNOPQRSTUVWXYZ'\n",
    "    mocknodename: str = ''\n",
    "    for _ in range(random.randint(6, lengthlimit)):\n",
    "        mocknodename += random.choice(yuggoth)\n",
    "    return mocknodename\n",
    "\n",
    "\n",
    "for _ in range(10):\n",
    "    print(generatename())"
   ]
  },
  {
   "cell_type": "code",
   "execution_count": 107,
   "metadata": {},
   "outputs": [
    {
     "name": "stdout",
     "output_type": "stream",
     "text": [
      "generated a tree with 1 node called bMXUk2iQ\n",
      "terminating script from notebook\n"
     ]
    }
   ],
   "source": [
    "# create a class for randomly generated Nodes\n",
    "import random\n",
    "\n",
    "\n",
    "def generatename(lengthlimit: int = random.randint(10, 20)) -> str:\n",
    "    \"\"\"_summary_\n",
    "\n",
    "    Returns:\n",
    "        str: _description_\n",
    "    \"\"\"\n",
    "    # create a random name as a string\n",
    "    yuggoth: str = '0123456789abcdefghijklmnopqrstuvwxyzABCDEFGHIJKLMNOPQRSTUVWXYZ'\n",
    "    mocknodename: str = ''\n",
    "    for _ in range(random.randint(6, lengthlimit)):\n",
    "        mocknodename += random.choice(yuggoth)\n",
    "    return mocknodename\n",
    "\n",
    "\n",
    "class Node:  # include only the most basic attributes needed\n",
    "    \"\"\"_summary_\n",
    "    \"\"\"\n",
    "    name: str\n",
    "    parent = None\n",
    "    children: dict = {}\n",
    "    treekey: str\n",
    "    amountonhand: int\n",
    "    amountmadepercraft: int\n",
    "    amountneeded: int\n",
    "    generation: int\n",
    "\n",
    "    def __init__(self, name: str, parent=None, amountonhand: int = 0, amountneeded: int = 1, amountmadepercraft: int = 1) -> None:\n",
    "        \"\"\"_summary_\n",
    "\n",
    "        Args:\n",
    "            name (str): _description_\n",
    "            parent (_type_, optional): _description_. Defaults to None.\n",
    "            amountonhand (int, optional): _description_. Defaults to 0.\n",
    "            amountneeded (int, optional): _description_. Defaults to 1.\n",
    "            amountmadepercraft (int, optional): _description_. Defaults to 1.\n",
    "        \"\"\"\n",
    "        self.name = name\n",
    "        self.parent = parent\n",
    "        self.amountonhand = amountonhand\n",
    "        self.amountneeded = amountneeded\n",
    "        self.amountmadepercraft = amountmadepercraft\n",
    "\n",
    "\n",
    "class NodeTree:\n",
    "    \"\"\"`create a randomly generated ingredient tree of Nodes\"\"\"\n",
    "    headnode: Node\n",
    "    population: int\n",
    "\n",
    "    def verifyuniqueness(self, name: str, leaf: Node) -> bool:\n",
    "        return False  # ! replace this line of code with a recursive method that returns True if the name is unique\n",
    "\n",
    "    def generateTree(self,population: int = 100, head: Node = Node(generatename(), None, 0, 1, 1)) -> Node:\n",
    "        # ! replace this line of code with augment Node instances as the return value\n",
    "        return head\n",
    "\n",
    "    def updatepopulation(self, leaf: Node, count: int = 1) -> int:\n",
    "        return count  # ! replace this line of code with a recursive method that returns the number of nodes in the tree\n",
    "    \n",
    "    def createmanytrees(self,numberoftrees : int = random.randint(1, 10)) -> dict:\n",
    "        NodeForest : dict = {}\n",
    "        for _ in range(numberoftrees):\n",
    "            NodeForest.update({self.updatepopulation(self.generateTree()):self.generateTree()})\n",
    "        return NodeForest   \n",
    "    def __init__(self, population_limit: int = random.randint(1, 50)) -> None:\n",
    "        self.headnode = self.generateTree(population_limit)\n",
    "        self.population = self.updatepopulation(self.headnode)\n",
    "        if self.population > 1:\n",
    "            print('generated a tree with', self.population,'nodes called', self.headnode.name)\n",
    "        else:\n",
    "            print('generated a tree with', self.population,'node called', self.headnode.name)\n",
    "\n",
    "\n",
    "if __name__ == '__main__':\n",
    "    testtree: NodeTree = NodeTree()\n",
    "    testdict: dict = NodeTree.createmanytrees(testtree, 10)\n",
    "    print('terminating script from notebook')\n"
   ]
  }
 ],
 "metadata": {
  "kernelspec": {
   "display_name": "Python 3.10.5 64-bit",
   "language": "python",
   "name": "python3"
  },
  "language_info": {
   "codemirror_mode": {
    "name": "ipython",
    "version": 3
   },
   "file_extension": ".py",
   "mimetype": "text/x-python",
   "name": "python",
   "nbconvert_exporter": "python",
   "pygments_lexer": "ipython3",
   "version": "3.10.5"
  },
  "orig_nbformat": 4,
  "vscode": {
   "interpreter": {
    "hash": "e8e5f0f77678b57dea646ee2d74f8567bb5521be35b298317873ede38e2aae3b"
   }
  }
 },
 "nbformat": 4,
 "nbformat_minor": 2
}
