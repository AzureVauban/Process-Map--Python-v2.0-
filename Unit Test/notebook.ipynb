{
 "cells": [
  {
   "cell_type": "code",
   "execution_count": 21,
   "metadata": {},
   "outputs": [
    {
     "name": "stdout",
     "output_type": "stream",
     "text": [
      "5tqhdXFJyheuCek\n",
      "gwHGpf5\n",
      "zL2PwBOFoy\n",
      "nqlKLZoperXq9\n",
      "4Ccj09Us3izNMN0dGr\n",
      "lubzjGUZusDATNuagLu\n",
      "Jg0dSU\n",
      "jBIWVLQcg\n",
      "1jASxVYqzk\n",
      "3ryLZn\n"
     ]
    }
   ],
   "source": [
    "# create a random name generator method\n",
    "import random\n",
    "\n",
    "\n",
    "def generatename(lengthlimit: int = random.randint(10, 20)) -> str:\n",
    "    \"\"\"_summary_\n",
    "\n",
    "    Returns:\n",
    "        str: _description_\n",
    "    \"\"\"\n",
    "    # create a random name as a string\n",
    "    yuggoth: str = '0123456789abcdefghijklmnopqrstuvwxyzABCDEFGHIJKLMNOPQRSTUVWXYZ'\n",
    "    mocknodename: str = ''\n",
    "    for _ in range(random.randint(6, lengthlimit)):\n",
    "        mocknodename += random.choice(yuggoth)\n",
    "    return mocknodename\n",
    "\n",
    "\n",
    "for _ in range(10):\n",
    "    print(generatename())"
   ]
  }
 ],
 "metadata": {
  "kernelspec": {
   "display_name": "Python 3.10.5 64-bit",
   "language": "python",
   "name": "python3"
  },
  "language_info": {
   "codemirror_mode": {
    "name": "ipython",
    "version": 3
   },
   "file_extension": ".py",
   "mimetype": "text/x-python",
   "name": "python",
   "nbconvert_exporter": "python",
   "pygments_lexer": "ipython3",
   "version": "3.10.5"
  },
  "orig_nbformat": 4,
  "vscode": {
   "interpreter": {
    "hash": "e8e5f0f77678b57dea646ee2d74f8567bb5521be35b298317873ede38e2aae3b"
   }
  }
 },
 "nbformat": 4,
 "nbformat_minor": 2
}
